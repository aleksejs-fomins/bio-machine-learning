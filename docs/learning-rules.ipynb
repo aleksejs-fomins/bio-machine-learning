{
 "cells": [
  {
   "cell_type": "markdown",
   "metadata": {},
   "source": [
    "|  |  |  |\n",
    "|--|--|--|\n",
    "| <div style=\"width:150px\">Rule</div> | <div style=\"width:150px\">Loss Function</div>  | <div style=\"width:150px\"> $\\tau_W \\dot{W} $</div> | Comment | \n",
    "|Hebb1949         | $-2\\langle y|\\hat{y} \\rangle$  | $y_i x_j$ | Blows up |\n",
    "|Cov-Hebbian      | $-2\\langle y - \\bar{y}|\\hat{y} - \\bar{\\hat{y}} \\rangle$  | $(y_i - \\bar{y}_i)(x_j - \\bar{x}_j)$ | Still Blows up |\n",
    "| BCM1982         | $\\eta|W|_2^2 -2\\langle y|\\hat{y} \\rangle$ | $f(y_i)x_j - \\eta W_{ij}$ | Stable, but not supported by experiment|\n",
    "| ???             | $|y - Wx|^2$  | $(y_i - W_{ik}x_k)x_j$ | Pointless, automatically satisfied by activity of $y$|\n",
    "|Rao-Ballard, Oja | $|x - yW|^2$  | $y_i(x_j - y_k W_{kj})$ | Minimizes prediction error, auto-normalizes weight. Has retrograde signalling|\n",
    "|Triplet Rule | ???  | ??? | See Pfister, Gerstner 2006, Zenke2015|\n",
    "|Three-Factor Rule | ???  | ??? | See Fremaux, Gerstner 2016  (eg TD-learning)|\n"
   ]
  },
  {
   "cell_type": "code",
   "execution_count": null,
   "metadata": {
    "collapsed": true
   },
   "outputs": [],
   "source": []
  }
 ],
 "metadata": {
  "kernelspec": {
   "display_name": "Python (py36qt5)",
   "language": "python",
   "name": "py36qt5"
  },
  "language_info": {
   "codemirror_mode": {
    "name": "ipython",
    "version": 3
   },
   "file_extension": ".py",
   "mimetype": "text/x-python",
   "name": "python",
   "nbconvert_exporter": "python",
   "pygments_lexer": "ipython3",
   "version": "3.6.4"
  }
 },
 "nbformat": 4,
 "nbformat_minor": 2
}
